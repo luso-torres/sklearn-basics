{
 "cells": [
  {
   "cell_type": "markdown",
   "id": "e62c747e-ecf5-4f3a-979c-a21dce7f9fa1",
   "metadata": {},
   "source": [
    "# Meet the data\n",
    "\n",
    "The data we will use for this example is the Iris dataset, a classical dataset in machine learning and statistics. It is included in `scikit-learn` in the `datasets` module. We can load it by calling the `load_iris` function"
   ]
  },
  {
   "cell_type": "code",
   "execution_count": 1,
   "id": "bb492987-d3ad-4da3-939b-6d0a9db109cf",
   "metadata": {},
   "outputs": [],
   "source": [
    "from sklearn.datasets import load_iris\n",
    "iris_dataset = load_iris()\n"
   ]
  },
  {
   "cell_type": "markdown",
   "id": "c43c2f35-dfc3-4e4f-b921-88e5e391ecc5",
   "metadata": {},
   "source": [
    "The `iris` object that is returned by `load_iris` is a `Bunch` object, which is very similar to a dicitonary. It contains keys and values."
   ]
  },
  {
   "cell_type": "code",
   "execution_count": 3,
   "id": "d1f27732-5b3b-41f4-bc71-b3a150783b3b",
   "metadata": {},
   "outputs": [
    {
     "name": "stdout",
     "output_type": "stream",
     "text": [
      "Keys of iris_dataset: \n",
      "dict_keys(['data', 'target', 'frame', 'target_names', 'DESCR', 'feature_names', 'filename', 'data_module'])\n"
     ]
    }
   ],
   "source": [
    "print(\"Keys of iris_dataset: \\n{}\".format(iris_dataset.keys()))"
   ]
  },
  {
   "cell_type": "markdown",
   "id": "5f315b57-d473-42f1-b83c-d9337023c7bb",
   "metadata": {},
   "source": [
    "The value of the key `DESCR` is a short description of the dataset. We show the beginning of the description here (feel free to look up the rest yourself):"
   ]
  },
  {
   "cell_type": "code",
   "execution_count": 4,
   "id": "5fdca23b-3d01-447e-8664-0f3b421af044",
   "metadata": {},
   "outputs": [
    {
     "name": "stdout",
     "output_type": "stream",
     "text": [
      ".. _iris_dataset:\n",
      "\n",
      "Iris plants dataset\n",
      "--------------------\n",
      "\n",
      "**Data Set Characteristics:**\n",
      "\n",
      ":Number of Instances: 150 (50 in each of three classes)\n",
      ":Number of Attributes: 4 numeric, predictive \n",
      "...\n"
     ]
    }
   ],
   "source": [
    "print(iris_dataset['DESCR'][:193] + \"\\n...\")"
   ]
  },
  {
   "cell_type": "code",
   "execution_count": 5,
   "id": "39d05754-37b0-4f24-abe9-7ecfcd629718",
   "metadata": {},
   "outputs": [
    {
     "name": "stdout",
     "output_type": "stream",
     "text": [
      "Target names: ['setosa' 'versicolor' 'virginica']\n"
     ]
    }
   ],
   "source": [
    "print(\"Target names: {}\".format(iris_dataset['target_names']))"
   ]
  },
  {
   "cell_type": "code",
   "execution_count": 6,
   "id": "6f0899e2-d54c-4f29-8120-9aeb77367431",
   "metadata": {},
   "outputs": [
    {
     "name": "stdout",
     "output_type": "stream",
     "text": [
      "Feature names? \n",
      "['sepal length (cm)', 'sepal width (cm)', 'petal length (cm)', 'petal width (cm)']\n"
     ]
    }
   ],
   "source": [
    "print(\"Feature names? \\n{}\".format(iris_dataset['feature_names']))"
   ]
  },
  {
   "cell_type": "code",
   "execution_count": 7,
   "id": "87122d19-6c4d-422d-a489-f21e7a385e8c",
   "metadata": {},
   "outputs": [
    {
     "name": "stdout",
     "output_type": "stream",
     "text": [
      "Type of data: <class 'numpy.ndarray'>\n"
     ]
    }
   ],
   "source": [
    "print(\"Type of data: {}\".format(type(iris_dataset['data'])))"
   ]
  },
  {
   "cell_type": "code",
   "execution_count": 8,
   "id": "ad9af9b2-5ad0-46ec-abc5-96a83eb86fe0",
   "metadata": {},
   "outputs": [
    {
     "name": "stdout",
     "output_type": "stream",
     "text": [
      "Shape of data: (150, 4)\n"
     ]
    }
   ],
   "source": [
    "print(\"Shape of data: {}\".format(iris_dataset['data'].shape))"
   ]
  },
  {
   "cell_type": "markdown",
   "id": "21cf9f62-2e05-43b0-8db5-2c21d082d5ca",
   "metadata": {},
   "source": [
    "For `scikit-learn`, it will always be assumed that you follow the specific pattern with your data:\n",
    "- properties (features) in the columns\n",
    "- items (samples) in the rows\n",
    "First five samples below:"
   ]
  },
  {
   "cell_type": "code",
   "execution_count": 9,
   "id": "64e0810f-226a-4965-a767-6d517f4e8c91",
   "metadata": {},
   "outputs": [
    {
     "name": "stdout",
     "output_type": "stream",
     "text": [
      "First five columns of data: \n",
      "[[5.1 3.5 1.4 0.2]\n",
      " [4.9 3.  1.4 0.2]\n",
      " [4.7 3.2 1.3 0.2]\n",
      " [4.6 3.1 1.5 0.2]\n",
      " [5.  3.6 1.4 0.2]]\n"
     ]
    }
   ],
   "source": [
    "print(\"First five columns of data: \\n{}\".format(iris_dataset['data'][:5]))"
   ]
  },
  {
   "cell_type": "markdown",
   "id": "eeecde22-3c0c-43ac-bba3-c64754903808",
   "metadata": {},
   "source": [
    "Target names are basically:\n",
    "- 0 means _setosa_\n",
    "- 1 means _versicolor_\n",
    "- 2 means _virginica_\n",
    "- \n",
    "## Measuring Success: Training and Testing Data\n",
    "\n",
    "Let's call train_test_split on our data and assign the outputs using this nomenclature:"
   ]
  },
  {
   "cell_type": "code",
   "execution_count": 10,
   "id": "592fabb2-023b-4dd5-925e-ea575081a6fc",
   "metadata": {},
   "outputs": [],
   "source": [
    "from sklearn.model_selection import train_test_split\n",
    "X_train, X_test, y_train, y_test = train_test_split(iris_dataset['data'], iris_dataset['target'], random_state =0)\n"
   ]
  },
  {
   "cell_type": "markdown",
   "id": "26e8a4d2-62fb-4f02-a704-ea19121b764f",
   "metadata": {},
   "source": [
    "The output of the `train_test_split` function is a `X_train`, `X_test`, `y_train` and `y_test`, which are all `Numpy` arrays, `X_train` contains 75% of the rows of the dataset, and `X_test` contains the remaining 25%"
   ]
  },
  {
   "cell_type": "code",
   "execution_count": 11,
   "id": "d490da59-1f3b-473c-bfbc-0c129f98f82d",
   "metadata": {},
   "outputs": [
    {
     "name": "stdout",
     "output_type": "stream",
     "text": [
      "X_train shape: (112, 4)\n",
      "y_train shape: (112,)\n"
     ]
    }
   ],
   "source": [
    "print(\"X_train shape: {}\".format(X_train.shape))\n",
    "print(\"y_train shape: {}\".format(y_train.shape))"
   ]
  },
  {
   "cell_type": "code",
   "execution_count": 12,
   "id": "e41eeb03-3ea9-4084-835f-d40bfdd8c4c5",
   "metadata": {},
   "outputs": [
    {
     "name": "stdout",
     "output_type": "stream",
     "text": [
      "X_test shape: (38, 4)\n",
      "y_test shape: (38,)\n"
     ]
    }
   ],
   "source": [
    "print(\"X_test shape: {}\".format(X_test.shape))\n",
    "print(\"y_test shape: {}\".format(y_test.shape))"
   ]
  },
  {
   "cell_type": "markdown",
   "id": "06cbffe6-828e-4850-bb7c-afc15a1534e9",
   "metadata": {},
   "source": [
    "## Working with Scatterplots\n",
    "\n",
    "One of the best ways to inspect data is to visualize it. One way to do this is by using a _scatter_ plot. A scatter plot of the data puts one feature along the x-axis and anoter along the y-axis, and draws a dot for each data point. Unfortunately, computer screens have only two dimensions, which allows us to plot only (or maybe three) features at a time. It is difficult to plot datasets with more than three features this way. One way around this problem is to do a _pair plot_, which looks at all possible pairs of features. If you have a small number of features, such as the four we have here, this is quite reasonable. You should keep in mind, however, that a pair plot does not show the interaction of all of the features at onece, so some interesting aspects of the data may not be revealed when visualizing it this way\n"
   ]
  },
  {
   "cell_type": "markdown",
   "id": "8438c840-8748-43e2-9dd6-97ea03791bb9",
   "metadata": {},
   "source": [
    "## Converting the numpy dataset array into a dataframe with Pandas\n",
    "\n",
    "To create the plot, we first convert the NumPy array into a `pandas DataFrame`. `pandas` has a function to create pair plots called `scatter_matrix`. The diagonal of this matrix is filled with histograms of each feature."
   ]
  },
  {
   "cell_type": "code",
   "execution_count": 18,
   "id": "cc42745d-dd44-4ff6-89e6-445cb6680e23",
   "metadata": {},
   "outputs": [
    {
     "data": {
      "text/html": [
       "<div>\n",
       "<style scoped>\n",
       "    .dataframe tbody tr th:only-of-type {\n",
       "        vertical-align: middle;\n",
       "    }\n",
       "\n",
       "    .dataframe tbody tr th {\n",
       "        vertical-align: top;\n",
       "    }\n",
       "\n",
       "    .dataframe thead th {\n",
       "        text-align: right;\n",
       "    }\n",
       "</style>\n",
       "<table border=\"1\" class=\"dataframe\">\n",
       "  <thead>\n",
       "    <tr style=\"text-align: right;\">\n",
       "      <th></th>\n",
       "      <th>Name</th>\n",
       "      <th>Location</th>\n",
       "      <th>Age</th>\n",
       "    </tr>\n",
       "  </thead>\n",
       "  <tbody>\n",
       "    <tr>\n",
       "      <th>0</th>\n",
       "      <td>John</td>\n",
       "      <td>New York</td>\n",
       "      <td>24</td>\n",
       "    </tr>\n",
       "    <tr>\n",
       "      <th>1</th>\n",
       "      <td>Anna</td>\n",
       "      <td>Paris</td>\n",
       "      <td>13</td>\n",
       "    </tr>\n",
       "    <tr>\n",
       "      <th>2</th>\n",
       "      <td>Peter</td>\n",
       "      <td>Berlin</td>\n",
       "      <td>53</td>\n",
       "    </tr>\n",
       "    <tr>\n",
       "      <th>3</th>\n",
       "      <td>Linda</td>\n",
       "      <td>London</td>\n",
       "      <td>33</td>\n",
       "    </tr>\n",
       "  </tbody>\n",
       "</table>\n",
       "</div>"
      ],
      "text/plain": [
       "    Name  Location  Age\n",
       "0   John  New York   24\n",
       "1   Anna     Paris   13\n",
       "2  Peter    Berlin   53\n",
       "3  Linda    London   33"
      ]
     },
     "metadata": {},
     "output_type": "display_data"
    }
   ],
   "source": [
    "import pandas as pd\n",
    "\n",
    "#create a simple dataset of people\n",
    "data = {'Name': [\"John\", \"Anna\", \"Peter\", \"Linda\"],\n",
    "        'Location': [\"New York\", \"Paris\", \"Berlin\", \"London\"],\n",
    "        'Age':  [24,13,53,33]\n",
    "       }\n",
    "\n",
    "data_pandas = pd.DataFrame(data)\n",
    "#IPython.display allows \"pretty printing\" of dataframes\n",
    "#in the Jupyter notebook\n",
    "display(data_pandas)\n",
    "\n"
   ]
  },
  {
   "cell_type": "code",
   "execution_count": 21,
   "id": "ab388e4c-f2e2-4917-83ee-766d40fa6ac4",
   "metadata": {},
   "outputs": [
    {
     "ename": "NameError",
     "evalue": "name 'mglearn' is not defined",
     "output_type": "error",
     "traceback": [
      "\u001b[1;31m---------------------------------------------------------------------------\u001b[0m",
      "\u001b[1;31mNameError\u001b[0m                                 Traceback (most recent call last)",
      "Cell \u001b[1;32mIn[21], line 7\u001b[0m\n\u001b[0;32m      3\u001b[0m iris_dataframe \u001b[38;5;241m=\u001b[39m pd\u001b[38;5;241m.\u001b[39mDataFrame (X_train, columns\u001b[38;5;241m=\u001b[39miris_dataset\u001b[38;5;241m.\u001b[39mfeature_names)\n\u001b[0;32m      5\u001b[0m \u001b[38;5;66;03m#create a scatter matrix from the dataframe, color by y_train\u001b[39;00m\n\u001b[0;32m      6\u001b[0m grr \u001b[38;5;241m=\u001b[39m pd\u001b[38;5;241m.\u001b[39mplotting\u001b[38;5;241m.\u001b[39mscatter_matrix(iris_dataframe, c\u001b[38;5;241m=\u001b[39my_train, figsize\u001b[38;5;241m=\u001b[39m(\u001b[38;5;241m15\u001b[39m,\u001b[38;5;241m15\u001b[39m), marker\u001b[38;5;241m=\u001b[39m\u001b[38;5;124m'\u001b[39m\u001b[38;5;124mo\u001b[39m\u001b[38;5;124m'\u001b[39m,\n\u001b[1;32m----> 7\u001b[0m                         hist_kwds\u001b[38;5;241m=\u001b[39m{\u001b[38;5;124m'\u001b[39m\u001b[38;5;124mbins\u001b[39m\u001b[38;5;124m'\u001b[39m:\u001b[38;5;241m20\u001b[39m}, s\u001b[38;5;241m=\u001b[39m\u001b[38;5;241m60\u001b[39m, alpha\u001b[38;5;241m=\u001b[39m\u001b[38;5;241m.8\u001b[39m,cmap\u001b[38;5;241m=\u001b[39m\u001b[43mmglearn\u001b[49m\u001b[38;5;241m.\u001b[39mcm3)\n",
      "\u001b[1;31mNameError\u001b[0m: name 'mglearn' is not defined"
     ]
    }
   ],
   "source": [
    "#Creating a datafram from data in X_train\n",
    "# label the columns using the strings in iris_dataset.feature_names\n",
    "iris_dataframe = pd.DataFrame (X_train, columns=iris_dataset.feature_names)\n",
    "\n",
    "#create a scatter matrix from the dataframe, color by y_train\n",
    "grr = pd.plotting.scatter_matrix(iris_dataframe, c=y_train, figsize=(15,15), marker='o',\n",
    "                        hist_kwds={'bins':20}, s=60, alpha=.8,cmap=mglearn.cm3)"
   ]
  }
 ],
 "metadata": {
  "kernelspec": {
   "display_name": "Python 3 (ipykernel)",
   "language": "python",
   "name": "python3"
  },
  "language_info": {
   "codemirror_mode": {
    "name": "ipython",
    "version": 3
   },
   "file_extension": ".py",
   "mimetype": "text/x-python",
   "name": "python",
   "nbconvert_exporter": "python",
   "pygments_lexer": "ipython3",
   "version": "3.11.9"
  }
 },
 "nbformat": 4,
 "nbformat_minor": 5
}
